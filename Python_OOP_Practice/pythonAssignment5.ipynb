{
 "cells": [
  {
   "cell_type": "markdown",
   "metadata": {},
   "source": [
    "# Object-Oriented-Programming (OOP)"
   ]
  },
  {
   "cell_type": "markdown",
   "metadata": {},
   "source": [
    "## Tasks Today:\n",
    "\n",
    "   \n",
    "\n",
    "1) <b>Creating a Class (Initializing/Declaring)</b> <br>\n",
    "2) <b>Using a Class (Instantiating)</b> <br>\n",
    " &nbsp;&nbsp;&nbsp;&nbsp; a) Creating One Instance <br>\n",
    " &nbsp;&nbsp;&nbsp;&nbsp; b) Creating Multiple Instances <br>\n",
    " &nbsp;&nbsp;&nbsp;&nbsp; c) In-Class Exercise #1 - Create a Class 'Car' and instantiate three different makes of cars <br>\n",
    "3) <b>The \\__init\\__() Method</b> <br>\n",
    " &nbsp;&nbsp;&nbsp;&nbsp; a) The 'self' Attribute <br>\n",
    "4) <b>Class Attributes</b> <br>\n",
    " &nbsp;&nbsp;&nbsp;&nbsp; a) Initializing Attributes <br>\n",
    " &nbsp;&nbsp;&nbsp;&nbsp; b) Setting an Attribute Outside of the \\__init\\__() Method <br>\n",
    " &nbsp;&nbsp;&nbsp;&nbsp; c) Setting Defaults for Attributes <br>\n",
    " &nbsp;&nbsp;&nbsp;&nbsp; d) Accessing Class Attributes <br>\n",
    " &nbsp;&nbsp;&nbsp;&nbsp; e) Changing Class Attributes <br>\n",
    " &nbsp;&nbsp;&nbsp;&nbsp; f) In-Class Exercise #2 - Add a color and wheels attribute to your 'Car' class <br>\n",
    "5) <b>Class Methods</b> <br>\n",
    " &nbsp;&nbsp;&nbsp;&nbsp; a) Creating <br>\n",
    " &nbsp;&nbsp;&nbsp;&nbsp; b) Calling <br>\n",
    " &nbsp;&nbsp;&nbsp;&nbsp; c) Modifying an Attribute's Value Through a Method <br>\n",
    " &nbsp;&nbsp;&nbsp;&nbsp; d) Incrementing an Attribute's Value Through a Method <br>\n",
    " &nbsp;&nbsp;&nbsp;&nbsp; e) In-Class Exercise #3 - Add a method that prints the cars color and wheel number, then call them <br>\n",
    "6) <b>Inheritance</b> <br>\n",
    " &nbsp;&nbsp;&nbsp;&nbsp; a) Syntax for Inheriting from a Parent Class <br>\n",
    " &nbsp;&nbsp;&nbsp;&nbsp; b) The \\__init\\__() Method for a Child Class (super()) <br>\n",
    " &nbsp;&nbsp;&nbsp;&nbsp; c) Defining Attributes and Methods for the Child Class <br>\n",
    " &nbsp;&nbsp;&nbsp;&nbsp; d) Method Overriding <br>\n",
    " &nbsp;&nbsp;&nbsp;&nbsp; e) In-Class Exercise #4 - Create a class 'Ford' that inherits from 'Car' class and initialize it as a Blue Ford Explorer with 4 wheels using the super() method <br>\n",
    "7) <b>Classes as Attributes</b> <br>\n",
    "8) <b>Exercises</b> <br>\n",
    " &nbsp;&nbsp;&nbsp;&nbsp; a) Exercise #1 - Turn the shopping cart program from yesterday into an object-oriented program <br>"
   ]
  },
  {
   "cell_type": "markdown",
   "metadata": {},
   "source": [
    "## Creating a Class (Initializing/Declaring)\n",
    "<p>When creating a class, function, or even a variable you are initializing that object. Initializing and Declaring occur at the same time in Python, whereas in lower level languages you have to declare an object before initializing it. This is the first step in the process of using a class.</p>"
   ]
  },
  {
   "cell_type": "code",
   "execution_count": 4,
   "metadata": {},
   "outputs": [],
   "source": [
    "class Car():\n",
    "    wheels = 4\n",
    "    color = 'blue'"
   ]
  },
  {
   "cell_type": "markdown",
   "metadata": {},
   "source": [
    "## Using a Class (Instantiating)\n",
    "<p>The process of creating a class is called <i>Instantiating</i>. Each time you create a variable of that type of class, it is referred to as an <i>Instance</i> of that class. This is the second step in the process of using a class.</p>"
   ]
  },
  {
   "cell_type": "markdown",
   "metadata": {},
   "source": [
    "##### Creating One Instance"
   ]
  },
  {
   "cell_type": "code",
   "execution_count": null,
   "metadata": {},
   "outputs": [],
   "source": [
    "ford = Car()"
   ]
  },
  {
   "cell_type": "markdown",
   "metadata": {},
   "source": [
    "##### Creating Multiple Instances"
   ]
  },
  {
   "cell_type": "code",
   "execution_count": null,
   "metadata": {},
   "outputs": [],
   "source": []
  },
  {
   "cell_type": "markdown",
   "metadata": {},
   "source": [
    "##### In-Class Exercise #1 - Create a Class 'Car' and Instantiate three different makes of cars"
   ]
  },
  {
   "cell_type": "code",
   "execution_count": 30,
   "metadata": {},
   "outputs": [
    {
     "name": "stdout",
     "output_type": "stream",
     "text": [
      "Car 1: 2022 Toyota Camry\n",
      "Car 2: 2021 Honda Civic\n",
      "Car 3: 2023 Ford Mustang\n"
     ]
    }
   ],
   "source": [
    "class Car:\n",
    "    def __init__(self, make, model, year):\n",
    "        self.make = make\n",
    "        self.model = model\n",
    "        self.year = year\n",
    "\n",
    "# Instantiate three different cars\n",
    "car1 = Car(\"Toyota\", \"Camry\", 2022)\n",
    "car2 = Car(\"Honda\", \"Civic\", 2021)\n",
    "car3 = Car(\"Ford\", \"Mustang\", 2023)\n",
    "\n",
    "# Accessing attributes of each car\n",
    "print(f\"Car 1: {car1.year} {car1.make} {car1.model}\")\n",
    "print(f\"Car 2: {car2.year} {car2.make} {car2.model}\")\n",
    "print(f\"Car 3: {car3.year} {car3.make} {car3.model}\")\n"
   ]
  },
  {
   "cell_type": "markdown",
   "metadata": {},
   "source": [
    "## The \\__init\\__() Method <br>\n",
    "<p>This method is used in almost every created class, and called only once upon the creation of the class instance. This method will initialize all variables needed for the object.</p>"
   ]
  },
  {
   "cell_type": "code",
   "execution_count": null,
   "metadata": {},
   "outputs": [],
   "source": []
  },
  {
   "cell_type": "markdown",
   "metadata": {},
   "source": [
    "##### The 'self' Attribute <br>\n",
    "<p>This attribute is required to keep track of specific instance's attributes. Without the self attribute, the program would not know how to reference or keep track of an instance's attributes.</p>"
   ]
  },
  {
   "cell_type": "code",
   "execution_count": null,
   "metadata": {},
   "outputs": [],
   "source": [
    "# see above"
   ]
  },
  {
   "cell_type": "markdown",
   "metadata": {},
   "source": [
    "## Class Attributes <br>\n",
    "<p>While variables are inside of a class, they are referred to as attributes and not variables. When someone says 'attribute' you know they're speaking about a class. Attributes can be initialized through the init method, or outside of it.</p>"
   ]
  },
  {
   "cell_type": "markdown",
   "metadata": {},
   "source": [
    "##### Initializing Attributes"
   ]
  },
  {
   "cell_type": "code",
   "execution_count": null,
   "metadata": {},
   "outputs": [],
   "source": [
    "# see above"
   ]
  },
  {
   "cell_type": "markdown",
   "metadata": {},
   "source": [
    "##### Accessing Class Attributes"
   ]
  },
  {
   "cell_type": "code",
   "execution_count": null,
   "metadata": {
    "scrolled": true
   },
   "outputs": [],
   "source": [
    "# See Above"
   ]
  },
  {
   "cell_type": "markdown",
   "metadata": {},
   "source": [
    "##### Setting Defaults for Attributes"
   ]
  },
  {
   "cell_type": "code",
   "execution_count": null,
   "metadata": {},
   "outputs": [],
   "source": []
  },
  {
   "cell_type": "markdown",
   "metadata": {},
   "source": [
    "##### Changing Class Attributes <br>\n",
    "<p>Keep in mind there are global class attributes and then there are attributes only available to each class instance which won't effect other classes.</p>"
   ]
  },
  {
   "cell_type": "code",
   "execution_count": null,
   "metadata": {},
   "outputs": [],
   "source": []
  },
  {
   "cell_type": "code",
   "execution_count": null,
   "metadata": {},
   "outputs": [],
   "source": []
  },
  {
   "cell_type": "markdown",
   "metadata": {},
   "source": [
    "##### In-Class Exercise #2 - Add a doors and seats attribute to your 'Car' class then print out two different instances with different doors and seats"
   ]
  },
  {
   "cell_type": "code",
   "execution_count": 32,
   "metadata": {},
   "outputs": [
    {
     "name": "stdout",
     "output_type": "stream",
     "text": [
      "2022 Toyota Camry with 4 doors and 5 seats.\n",
      "2021 Honda Civic with 2 doors and 4 seats.\n"
     ]
    }
   ],
   "source": [
    "class Car:\n",
    "    def __init__(self, make, model):\n",
    "        self.make = make\n",
    "        self.model = model\n",
    "        \n",
    "    def set_attributes(self, year, doors, seats):\n",
    "        self.year = year\n",
    "        self.doors = doors\n",
    "        self.seats = seats\n",
    "        \n",
    "    def print_car_details(self):\n",
    "        print(f\"{self.year} {self.make} {self.model} with {self.doors} doors and {self.seats} seats.\")\n",
    "\n",
    "\n",
    "# Instantiate three different cars\n",
    "car1 = Car(\"Toyota\", \"Camry\")\n",
    "car1.set_attributes(2022, 4, 5)\n",
    "\n",
    "car2 = Car(\"Honda\", \"Civic\")\n",
    "car2.set_attributes(2021, 2, 4)\n",
    "\n",
    "car1.print_car_details()\n",
    "car2.print_car_details()"
   ]
  },
  {
   "cell_type": "markdown",
   "metadata": {},
   "source": [
    "## Class Methods <br>\n",
    "<p>While inside of a class, functions are referred to as 'methods'. If you hear someone mention methods, they're speaking about classes. Methods are essentially functions, but only callable on the instances of a class.</p>"
   ]
  },
  {
   "cell_type": "markdown",
   "metadata": {},
   "source": [
    "##### Creating"
   ]
  },
  {
   "cell_type": "code",
   "execution_count": null,
   "metadata": {},
   "outputs": [],
   "source": []
  },
  {
   "cell_type": "markdown",
   "metadata": {},
   "source": [
    "##### Calling"
   ]
  },
  {
   "cell_type": "code",
   "execution_count": null,
   "metadata": {},
   "outputs": [],
   "source": [
    "# See Above"
   ]
  },
  {
   "cell_type": "markdown",
   "metadata": {},
   "source": [
    "##### Modifying an Attribute's Value Through a Method"
   ]
  },
  {
   "cell_type": "code",
   "execution_count": null,
   "metadata": {},
   "outputs": [],
   "source": []
  },
  {
   "cell_type": "markdown",
   "metadata": {},
   "source": [
    "##### Incrementing an Attribute's Value Through a Method"
   ]
  },
  {
   "cell_type": "code",
   "execution_count": null,
   "metadata": {},
   "outputs": [],
   "source": []
  },
  {
   "cell_type": "markdown",
   "metadata": {},
   "source": [
    "##### In-Class Exercise #3 - Add a method that takes in three parameters of year, doors and seats and prints out a formatted print statement with make, model, year, seats, and doors"
   ]
  },
  {
   "cell_type": "code",
   "execution_count": 34,
   "metadata": {},
   "outputs": [
    {
     "name": "stdout",
     "output_type": "stream",
     "text": [
      "This car if from 2022 and is a Toyota Camry with 4 doors and 5 seats.\n",
      "This car if from 2021 and is a Honda Civic with 2 doors and 4 seats.\n"
     ]
    }
   ],
   "source": [
    "# Create class with 2 paramters inside of the __init__ which are make and model\n",
    "\n",
    "# Inside of the Car class create a method that has 4 parameter in total (self,year,door,seats)\n",
    "\n",
    "# Output: This car is from 2019 and is a Ford Expolorer and has 4 doors and 5 seats\n",
    "\n",
    "class Car:\n",
    "    def __init__(self, make, model):\n",
    "        self.make = make\n",
    "        self.model = model\n",
    "        \n",
    "    def set_attributes(self, year, doors, seats):\n",
    "        self.year = year\n",
    "        self.doors = doors\n",
    "        self.seats = seats\n",
    "        \n",
    "    def print_car_details(self):\n",
    "        print(f\"This car if from {self.year} and is a {self.make} {self.model} with {self.doors} doors and {self.seats} seats.\")\n",
    "\n",
    "\n",
    "# Instantiate three different cars\n",
    "car1 = Car(\"Toyota\", \"Camry\")\n",
    "car1.set_attributes(2022, 4, 5)\n",
    "\n",
    "car2 = Car(\"Honda\", \"Civic\")\n",
    "car2.set_attributes(2021, 2, 4)\n",
    "\n",
    "car1.print_car_details()\n",
    "car2.print_car_details()\n"
   ]
  },
  {
   "cell_type": "markdown",
   "metadata": {},
   "source": [
    "## Inheritance <br>\n",
    "<p>You can create a child-parent relationship between two classes by using inheritance. What this allows you to do is have overriding methods, but also inherit traits from the parent class. Think of it as an actual parent and child, the child will inherit the parent's genes, as will the classes in OOP</p>"
   ]
  },
  {
   "cell_type": "markdown",
   "metadata": {},
   "source": [
    "##### Syntax for Inheriting from a Parent Class"
   ]
  },
  {
   "cell_type": "code",
   "execution_count": null,
   "metadata": {},
   "outputs": [],
   "source": []
  },
  {
   "cell_type": "markdown",
   "metadata": {},
   "source": [
    "##### The \\__init\\__() Method for a Child Class - super()"
   ]
  },
  {
   "cell_type": "code",
   "execution_count": null,
   "metadata": {
    "scrolled": true
   },
   "outputs": [],
   "source": []
  },
  {
   "cell_type": "markdown",
   "metadata": {},
   "source": [
    "##### Defining Attributes and Methods for the Child Class"
   ]
  },
  {
   "cell_type": "code",
   "execution_count": null,
   "metadata": {},
   "outputs": [],
   "source": [
    "# See Above"
   ]
  },
  {
   "cell_type": "markdown",
   "metadata": {},
   "source": [
    "##### Method Overriding"
   ]
  },
  {
   "cell_type": "code",
   "execution_count": null,
   "metadata": {},
   "outputs": [],
   "source": [
    "# See Above"
   ]
  },
  {
   "cell_type": "markdown",
   "metadata": {},
   "source": [
    "## Classes as Attributes <br>\n",
    "<p>Classes can also be used as attributes within another class. This is useful in situations where you need to keep variables locally stored, instead of globally stored.</p>"
   ]
  },
  {
   "cell_type": "code",
   "execution_count": null,
   "metadata": {},
   "outputs": [],
   "source": []
  },
  {
   "cell_type": "markdown",
   "metadata": {},
   "source": [
    "# Exercises"
   ]
  },
  {
   "cell_type": "markdown",
   "metadata": {},
   "source": [
    "### Exercise 1 - Turn the shopping cart program from yesterday into an object-oriented program\n",
    "\n",
    "The comments in the cell below are there as a guide for thinking about the problem. However, if you feel a different way is best for you and your own thought process, please do what feels best for you by all means."
   ]
  },
  {
   "cell_type": "code",
   "execution_count": 29,
   "metadata": {},
   "outputs": [
    {
     "name": "stdout",
     "output_type": "stream",
     "text": [
      "\n",
      "Options:\n",
      "1. Show Items\n",
      "2. Add Item\n",
      "3. Delete Item\n",
      "4. Clear Cart\n",
      "5. Quit\n",
      "Enter your choice (1-5): 1\n",
      "Cart is empty.\n",
      "\n",
      "Options:\n",
      "1. Show Items\n",
      "2. Add Item\n",
      "3. Delete Item\n",
      "4. Clear Cart\n",
      "5. Quit\n",
      "Enter your choice (1-5): 2\n",
      "Enter The item you want to add: diaries\n",
      "Enter Quantity of item: 5\n",
      "5 diaries(s) added to the cart.\n",
      "\n",
      "Options:\n",
      "1. Show Items\n",
      "2. Add Item\n",
      "3. Delete Item\n",
      "4. Clear Cart\n",
      "5. Quit\n",
      "Enter your choice (1-5): 2\n",
      "Enter The item you want to add: pens\n",
      "Enter Quantity of item: 10\n",
      "10 pens(s) added to the cart.\n",
      "\n",
      "Options:\n",
      "1. Show Items\n",
      "2. Add Item\n",
      "3. Delete Item\n",
      "4. Clear Cart\n",
      "5. Quit\n",
      "Enter your choice (1-5): 1\n",
      "Current Shopping List\n",
      "diaries: 5\n",
      "pens: 10\n",
      "\n",
      "Options:\n",
      "1. Show Items\n",
      "2. Add Item\n",
      "3. Delete Item\n",
      "4. Clear Cart\n",
      "5. Quit\n",
      "Enter your choice (1-5): 3\n",
      "Enter The item you want to Delete: pens\n",
      "Enter the quantity of pens to delete: 1\n",
      "1 pens(s) deleted from the cart.\n",
      "\n",
      "Options:\n",
      "1. Show Items\n",
      "2. Add Item\n",
      "3. Delete Item\n",
      "4. Clear Cart\n",
      "5. Quit\n",
      "Enter your choice (1-5): 1\n",
      "Current Shopping List\n",
      "diaries: 5\n",
      "pens: 9\n",
      "\n",
      "Options:\n",
      "1. Show Items\n",
      "2. Add Item\n",
      "3. Delete Item\n",
      "4. Clear Cart\n",
      "5. Quit\n",
      "Enter your choice (1-5): 5\n",
      "Items in the cart:\n",
      "Current Shopping List\n",
      "diaries: 5\n",
      "pens: 9\n"
     ]
    }
   ],
   "source": [
    "# Create a class called cart that retains items and has methods to add, remove, and show\n",
    "\n",
    "class Cart():\n",
    "    \n",
    "    def __init__(self) -> None:\n",
    "        self.cart = {}\n",
    "\n",
    "    def show_cart(self):\n",
    "        if not self.cart:\n",
    "            print(\"Cart is empty.\")\n",
    "        else:\n",
    "            print(\"Current Shopping List\")\n",
    "        for item, quantity in self.cart.items():\n",
    "                print(f\"{item}: {quantity}\")\n",
    "\n",
    "\n",
    "    def add_item(self):\n",
    "        item = input(\"Enter The item you want to add: \").strip(\" \")\n",
    "        quantity = int(input(\"Enter Quantity of item: \").strip(\" \"))\n",
    "\n",
    "        self.cart[item] = self.cart.get(item, 0) + quantity\n",
    "    #     print(cart[item])\n",
    "    #     print(cart)\n",
    "        print(f\"{quantity} {item}(s) added to the cart.\")\n",
    "\n",
    "\n",
    "\n",
    "    def delete_item(self):\n",
    "        item = input(\"Enter The item you want to Delete: \").strip(\" \")\n",
    "\n",
    "\n",
    "        if item in self.cart:\n",
    "            quantity_to_delete = int(input(f\"Enter the quantity of {item} to delete: \").strip(\" \"))\n",
    "            #current_quantity = cart.get(item, 0)\n",
    "\n",
    "\n",
    "            if quantity_to_delete > self.cart[item]:\n",
    "                print(f\"Error: Quantity to delete exceeds the current quantity ({cart[item]}).\")\n",
    "\n",
    "            else:\n",
    "                self.cart[item] = self.cart.get(item, 0) - quantity_to_delete\n",
    "    #             cart[item] -= quantity_to_delete     for simplification\n",
    "                print(f\"{quantity_to_delete} {item}(s) deleted from the cart.\")\n",
    "\n",
    "                if self.cart[item] == 0:\n",
    "                    del self.cart[item]\n",
    "        else:\n",
    "            print(f\"{item} not found in the cart.\")\n",
    "\n",
    "\n",
    "    def clear_cart(self):\n",
    "        self.cart.clear()\n",
    "        print(\"Shopping cart cleared.\")\n",
    "\n",
    "\n",
    "\n",
    "\n",
    "    def lets_begin(self):\n",
    "        while True:\n",
    "            print(\"\\nOptions:\")\n",
    "            print(\"1. Show Items\")\n",
    "            print(\"2. Add Item\")\n",
    "            print(\"3. Delete Item\")\n",
    "            print(\"4. Clear Cart\")\n",
    "            print(\"5. Quit\")\n",
    "\n",
    "            choice = input(\"Enter your choice (1-5): \").strip()\n",
    "\n",
    "            if choice == '1':\n",
    "                self.show_cart()\n",
    "            elif choice == '2':\n",
    "                self.add_item()\n",
    "            elif choice == '3':\n",
    "                self.delete_item()\n",
    "            elif choice == '4':\n",
    "                self.clear_cart()\n",
    "            elif choice == '5':\n",
    "                print(\"Items in the cart:\")\n",
    "                self.show_cart()\n",
    "                break\n",
    "            else:\n",
    "                print(\"Invalid choice. Please enter a number between 1 and 5.\")\n",
    "\n",
    "cart1 = Cart()\n",
    "cart1.lets_begin()"
   ]
  },
  {
   "cell_type": "markdown",
   "metadata": {},
   "source": [
    "### Exercise 2 - Write a Python class which has two methods get_String and print_String. get_String accept a string from the user and print_String print the string in upper case"
   ]
  },
  {
   "cell_type": "code",
   "execution_count": 17,
   "metadata": {},
   "outputs": [
    {
     "name": "stdout",
     "output_type": "stream",
     "text": [
      "Input Your String: i am sukhpreet \n",
      "User string in upper case: I AM SUKHPREET \n"
     ]
    }
   ],
   "source": [
    "class StrManipulation:\n",
    "    def __init__(self) -> None:\n",
    "        self.string = self.get_string()\n",
    "        \n",
    "        \n",
    "    def get_string(self):\n",
    "        user_string = input('Input Your String: ')\n",
    "        self.print_string(user_string)\n",
    "        return user_string\n",
    "        \n",
    "    def print_string(self, user_string):\n",
    "        print(f'User string in upper case: {self.string.upper()}')\n",
    "\n",
    "user1 = Print()"
   ]
  },
  {
   "cell_type": "code",
   "execution_count": null,
   "metadata": {},
   "outputs": [],
   "source": []
  },
  {
   "cell_type": "code",
   "execution_count": null,
   "metadata": {},
   "outputs": [],
   "source": []
  }
 ],
 "metadata": {
  "kernelspec": {
   "display_name": "Python 3 (ipykernel)",
   "language": "python",
   "name": "python3"
  },
  "language_info": {
   "codemirror_mode": {
    "name": "ipython",
    "version": 3
   },
   "file_extension": ".py",
   "mimetype": "text/x-python",
   "name": "python",
   "nbconvert_exporter": "python",
   "pygments_lexer": "ipython3",
   "version": "3.11.5"
  }
 },
 "nbformat": 4,
 "nbformat_minor": 2
}
